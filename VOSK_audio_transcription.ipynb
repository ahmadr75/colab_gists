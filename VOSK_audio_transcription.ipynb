{
  "nbformat": 4,
  "nbformat_minor": 0,
  "metadata": {
    "colab": {
      "provenance": [],
      "authorship_tag": "ABX9TyNXIPF0fCfELDEAjLjfKx1K",
      "include_colab_link": true
    },
    "kernelspec": {
      "name": "python3",
      "display_name": "Python 3"
    },
    "language_info": {
      "name": "python"
    }
  },
  "cells": [
    {
      "cell_type": "markdown",
      "metadata": {
        "id": "view-in-github",
        "colab_type": "text"
      },
      "source": [
        "<a href=\"https://colab.research.google.com/github/ahmadr75/colab_gists/blob/main/VOSK_audio_transcription.ipynb\" target=\"_parent\"><img src=\"https://colab.research.google.com/assets/colab-badge.svg\" alt=\"Open In Colab\"/></a>"
      ]
    },
    {
      "cell_type": "code",
      "execution_count": null,
      "metadata": {
        "colab": {
          "base_uri": "https://localhost:8080/"
        },
        "id": "TwDoza8assYG",
        "outputId": "1b00ecae-004d-4cbc-a1c2-ef8c2fd67baf"
      },
      "outputs": [
        {
          "output_type": "stream",
          "name": "stdout",
          "text": [
            "Collecting vosk\n",
            "  Downloading vosk-0.3.45-py3-none-manylinux_2_12_x86_64.manylinux2010_x86_64.whl (7.2 MB)\n",
            "\u001b[2K     \u001b[90m━━━━━━━━━━━━━━━━━━━━━━━━━━━━━━━━━━━━━━━━\u001b[0m \u001b[32m7.2/7.2 MB\u001b[0m \u001b[31m9.9 MB/s\u001b[0m eta \u001b[36m0:00:00\u001b[0m\n",
            "\u001b[?25hCollecting pydub\n",
            "  Downloading pydub-0.25.1-py2.py3-none-any.whl (32 kB)\n",
            "Collecting wave\n",
            "  Downloading Wave-0.0.2.zip (38 kB)\n",
            "  Preparing metadata (setup.py) ... \u001b[?25l\u001b[?25hdone\n",
            "Requirement already satisfied: cffi>=1.0 in /usr/local/lib/python3.10/dist-packages (from vosk) (1.16.0)\n",
            "Requirement already satisfied: requests in /usr/local/lib/python3.10/dist-packages (from vosk) (2.31.0)\n",
            "Requirement already satisfied: tqdm in /usr/local/lib/python3.10/dist-packages (from vosk) (4.66.4)\n",
            "Collecting srt (from vosk)\n",
            "  Downloading srt-3.5.3.tar.gz (28 kB)\n",
            "  Preparing metadata (setup.py) ... \u001b[?25l\u001b[?25hdone\n",
            "Collecting websockets (from vosk)\n",
            "  Downloading websockets-12.0-cp310-cp310-manylinux_2_5_x86_64.manylinux1_x86_64.manylinux_2_17_x86_64.manylinux2014_x86_64.whl (130 kB)\n",
            "\u001b[2K     \u001b[90m━━━━━━━━━━━━━━━━━━━━━━━━━━━━━━━━━━━━━━━━\u001b[0m \u001b[32m130.2/130.2 kB\u001b[0m \u001b[31m7.5 MB/s\u001b[0m eta \u001b[36m0:00:00\u001b[0m\n",
            "\u001b[?25hRequirement already satisfied: pycparser in /usr/local/lib/python3.10/dist-packages (from cffi>=1.0->vosk) (2.22)\n",
            "Requirement already satisfied: charset-normalizer<4,>=2 in /usr/local/lib/python3.10/dist-packages (from requests->vosk) (3.3.2)\n",
            "Requirement already satisfied: idna<4,>=2.5 in /usr/local/lib/python3.10/dist-packages (from requests->vosk) (3.7)\n",
            "Requirement already satisfied: urllib3<3,>=1.21.1 in /usr/local/lib/python3.10/dist-packages (from requests->vosk) (2.0.7)\n",
            "Requirement already satisfied: certifi>=2017.4.17 in /usr/local/lib/python3.10/dist-packages (from requests->vosk) (2024.7.4)\n",
            "Building wheels for collected packages: wave, srt\n",
            "  Building wheel for wave (setup.py) ... \u001b[?25l\u001b[?25hdone\n",
            "  Created wheel for wave: filename=Wave-0.0.2-py3-none-any.whl size=1220 sha256=7d028e2827f43d08b53d03be7f05adb84091ef9d8a0812ec13a4ce3585590a77\n",
            "  Stored in directory: /root/.cache/pip/wheels/f8/24/4d/1b01c0e32da3eb3fd71bbbc6093fcc557ec3b2d9e532ecd65d\n",
            "  Building wheel for srt (setup.py) ... \u001b[?25l\u001b[?25hdone\n",
            "  Created wheel for srt: filename=srt-3.5.3-py3-none-any.whl size=22428 sha256=d496808ed59e3773159b7a6f49b732a0b3c5578b086cfa1b7ed81bf575c979ad\n",
            "  Stored in directory: /root/.cache/pip/wheels/d7/31/a1/18e1e7e8bfdafd19e6803d7eb919b563dd11de380e4304e332\n",
            "Successfully built wave srt\n",
            "Installing collected packages: wave, pydub, websockets, srt, vosk\n",
            "Successfully installed pydub-0.25.1 srt-3.5.3 vosk-0.3.45 wave-0.0.2 websockets-12.0\n"
          ]
        }
      ],
      "source": [
        "!pip install vosk pydub wave\n",
        "\n"
      ]
    },
    {
      "cell_type": "code",
      "source": [
        "# prompt: download from file https://alphacephei.com/vosk/models/vosk-model-small-fa-0.5.zip\n",
        "\n",
        "!wget https://alphacephei.com/vosk/models/vosk-model-fa-0.5.zip"
      ],
      "metadata": {
        "colab": {
          "base_uri": "https://localhost:8080/"
        },
        "id": "qVCmC-BctqFW",
        "outputId": "669d7693-6346-43a2-c765-2422d5d55a83"
      },
      "execution_count": null,
      "outputs": [
        {
          "output_type": "stream",
          "name": "stdout",
          "text": [
            "--2024-07-15 23:25:34--  https://alphacephei.com/vosk/models/vosk-model-fa-0.5.zip\n",
            "Resolving alphacephei.com (alphacephei.com)... 188.40.21.16, 2a01:4f8:13a:279f::2\n",
            "Connecting to alphacephei.com (alphacephei.com)|188.40.21.16|:443... connected.\n",
            "HTTP request sent, awaiting response... 200 OK\n",
            "Length: 1130835264 (1.1G) [application/zip]\n",
            "Saving to: ‘vosk-model-fa-0.5.zip’\n",
            "\n",
            "vosk-model-fa-0.5.z 100%[===================>]   1.05G  19.3MB/s    in 56s     \n",
            "\n",
            "2024-07-15 23:26:31 (19.1 MB/s) - ‘vosk-model-fa-0.5.zip’ saved [1130835264/1130835264]\n",
            "\n"
          ]
        }
      ]
    },
    {
      "cell_type": "code",
      "source": [
        "# prompt: unzip the file at /content/vosk-model-fa-0.5.zip\n",
        "\n",
        "!unzip /content/vosk-model-fa-0.5.zip\n"
      ],
      "metadata": {
        "colab": {
          "base_uri": "https://localhost:8080/"
        },
        "id": "YlTjDboMtc_-",
        "outputId": "4ae3bfd9-ffb6-405c-94b1-c405e05f95d4"
      },
      "execution_count": null,
      "outputs": [
        {
          "output_type": "stream",
          "name": "stdout",
          "text": [
            "Archive:  /content/vosk-model-fa-0.5.zip\n",
            "   creating: vosk-model-fa-0.5/\n",
            "   creating: vosk-model-fa-0.5/rescore/\n",
            "  inflating: vosk-model-fa-0.5/rescore/G.carpa  \n",
            "  inflating: vosk-model-fa-0.5/rescore/G.fst  \n",
            "   creating: vosk-model-fa-0.5/test/\n",
            " extracting: vosk-model-fa-0.5/test/test.txt  \n",
            "  inflating: vosk-model-fa-0.5/test/test.wav  \n",
            "  inflating: vosk-model-fa-0.5/test/test_simple.py  \n",
            "   creating: vosk-model-fa-0.5/am/\n",
            "  inflating: vosk-model-fa-0.5/am/final.mdl  \n",
            "  inflating: vosk-model-fa-0.5/am/tree  \n",
            "   creating: vosk-model-fa-0.5/graph/\n",
            "  inflating: vosk-model-fa-0.5/graph/words.txt  \n",
            "  inflating: vosk-model-fa-0.5/graph/HCLG.fst  \n",
            "   creating: vosk-model-fa-0.5/graph/phones/\n",
            "  inflating: vosk-model-fa-0.5/graph/phones/word_boundary.int  \n",
            "   creating: vosk-model-fa-0.5/conf/\n",
            "  inflating: vosk-model-fa-0.5/conf/model.conf  \n",
            "  inflating: vosk-model-fa-0.5/conf/mfcc.conf  \n",
            "   creating: vosk-model-fa-0.5/ivector/\n",
            "  inflating: vosk-model-fa-0.5/ivector/splice.conf  \n",
            "  inflating: vosk-model-fa-0.5/ivector/final.dubm  \n",
            "  inflating: vosk-model-fa-0.5/ivector/global_cmvn.stats  \n",
            "  inflating: vosk-model-fa-0.5/ivector/final.ie  \n",
            "  inflating: vosk-model-fa-0.5/ivector/online_cmvn.conf  \n",
            "  inflating: vosk-model-fa-0.5/ivector/final.mat  \n",
            " extracting: vosk-model-fa-0.5/README  \n"
          ]
        }
      ]
    },
    {
      "cell_type": "code",
      "source": [
        "import os\n",
        "import json\n",
        "from vosk import Model, KaldiRecognizer\n",
        "import wave\n",
        "\n",
        "# Load the audio file\n",
        "audio_path = \"/content/Khooneye_Madar_Bozorge_Part_1_خونه_مادربزرگه_قسمت_1_gBslGhSj5Ow.mp3\"\n",
        "\n",
        "# Convert MP3 to WAV\n",
        "import pydub\n",
        "audio = pydub.AudioSegment.from_mp3(audio_path)\n",
        "wav_path = \"/content/Khooneye_Madar_Bozorge_Part_1.wav\"\n",
        "audio.export(wav_path, format=\"wav\")\n",
        "\n",
        "# Initialize the Vosk model (assuming Persian model is available and installed)\n",
        "model_path = \"/content/vosk-model-fa-0.5\"  # Replace with your actual model path\n",
        "\n",
        "# Check if model path exists\n",
        "if not os.path.exists(model_path):\n",
        "    print(\"Please download the model from 'https://alphacephei.com/vosk/models' and unpack as 'model' in the current folder.\")\n",
        "else:\n",
        "    # Load the model\n",
        "    model = Model(model_path)\n",
        "\n",
        "    # Process the audio file\n",
        "    wf = wave.open(wav_path, \"rb\")\n",
        "    rec = KaldiRecognizer(model, wf.getframerate())\n",
        "\n",
        "    transcription = []\n",
        "    while True:\n",
        "        data = wf.readframes(4000)\n",
        "        if len(data) == 0:\n",
        "            break\n",
        "        if rec.AcceptWaveform(data):\n",
        "            result = json.loads(rec.Result())\n",
        "            transcription.append(result.get('text', ''))\n",
        "\n",
        "    # Get the final transcription result\n",
        "    final_result = json.loads(rec.FinalResult())\n",
        "    transcription.append(final_result.get('text', ''))\n",
        "\n",
        "    # Combine all transcriptions into a single text\n",
        "    persian_text = ' '.join(transcription)\n",
        "    persian_text\n"
      ],
      "metadata": {
        "id": "4H2tNSk4sujT"
      },
      "execution_count": 8,
      "outputs": []
    },
    {
      "cell_type": "code",
      "source": [
        "persian_text[0:100]"
      ],
      "metadata": {
        "colab": {
          "base_uri": "https://localhost:8080/",
          "height": 35
        },
        "id": "OUW11DZ7vWv3",
        "outputId": "ae3e5941-5d34-4a3e-8777-c020fea6a3bf"
      },
      "execution_count": 11,
      "outputs": [
        {
          "output_type": "execute_result",
          "data": {
            "text/plain": [
              "'      من         د           رنگ  برد ج از م ر هر دعوا     انکه در وین کرد مجموعه اشعار شهردار زنجان'"
            ],
            "application/vnd.google.colaboratory.intrinsic+json": {
              "type": "string"
            }
          },
          "metadata": {},
          "execution_count": 11
        }
      ]
    }
  ]
}